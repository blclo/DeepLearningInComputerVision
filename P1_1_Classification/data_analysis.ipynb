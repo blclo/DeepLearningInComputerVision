{
 "cells": [
  {
   "cell_type": "code",
   "execution_count": 20,
   "metadata": {},
   "outputs": [],
   "source": [
    "import numpy as np\n",
    "from tqdm.notebook import tqdm\n",
    "import torch\n",
    "import torch.nn as nn\n",
    "import torch.nn.functional as F\n",
    "import torchvision.datasets as datasets\n",
    "from torch.utils.data import DataLoader\n",
    "import torchvision.transforms as transforms\n",
    "import matplotlib.pyplot as plt\n",
    "from src.data.dataloader import HotDog_NotHotdog"
   ]
  },
  {
   "cell_type": "code",
   "execution_count": 21,
   "metadata": {},
   "outputs": [
    {
     "name": "stdout",
     "output_type": "stream",
     "text": [
      "The code will run on CPU. Go to Edit->Notebook Settings and choose GPU as the hardware accelerator\n",
      "data_path:  /hotdog-nothotdog\n",
      "Post joined data_path:  /hotdog-nothotdog\\train\n"
     ]
    },
    {
     "ename": "TypeError",
     "evalue": "__init__() should return None, not 'str'",
     "output_type": "error",
     "traceback": [
      "\u001b[1;31m---------------------------------------------------------------------------\u001b[0m",
      "\u001b[1;31mTypeError\u001b[0m                                 Traceback (most recent call last)",
      "Cell \u001b[1;32mIn[21], line 13\u001b[0m\n\u001b[0;32m      9\u001b[0m batch_size \u001b[39m=\u001b[39m \u001b[39m64\u001b[39m\n\u001b[0;32m     11\u001b[0m \u001b[39m# -----------------  Load dataset  -----------------\u001b[39;00m\n\u001b[1;32m---> 13\u001b[0m trainset \u001b[39m=\u001b[39m HotDog_NotHotdog(train\u001b[39m=\u001b[39;49m\u001b[39mTrue\u001b[39;49;00m)\n\u001b[0;32m     14\u001b[0m \u001b[39mprint\u001b[39m(\u001b[39mlen\u001b[39m(trainset))\n\u001b[0;32m     15\u001b[0m train_loader \u001b[39m=\u001b[39m DataLoader(trainset, batch_size\u001b[39m=\u001b[39mbatch_size, shuffle\u001b[39m=\u001b[39m\u001b[39mTrue\u001b[39;00m, num_workers\u001b[39m=\u001b[39m\u001b[39m3\u001b[39m)\n",
      "\u001b[1;31mTypeError\u001b[0m: __init__() should return None, not 'str'"
     ]
    }
   ],
   "source": [
    "# TODO: call method which returns train and test loaders\n",
    "# GPU / CPU use\n",
    "if torch.cuda.is_available():\n",
    "    print(\"The code will run on GPU.\")\n",
    "else:\n",
    "    print(\"The code will run on CPU. Go to Edit->Notebook Settings and choose GPU as the hardware accelerator\")\n",
    "device = torch.device('cuda' if torch.cuda.is_available() else 'cpu')\n",
    "\n",
    "batch_size = 64\n",
    "\n",
    "# -----------------  Load dataset  -----------------\n",
    "\n",
    "trainset = HotDog_NotHotdog(train=True)\n",
    "print(len(trainset))\n",
    "train_loader = DataLoader(trainset, batch_size=batch_size, shuffle=True, num_workers=3)\n",
    "testset = HotDog_NotHotdog(train=False)\n",
    "test_loader = DataLoader(testset, batch_size=batch_size, shuffle=False, num_workers=3)"
   ]
  },
  {
   "cell_type": "code",
   "execution_count": null,
   "metadata": {},
   "outputs": [],
   "source": [
    "images, labels = next(iter(train_loader))\n",
    "plt.figure(figsize=(20,10))\n",
    "\n",
    "for i in range(21):\n",
    "    plt.subplot(5,7,i+1)\n",
    "    plt.imshow(images[i].numpy()[0], 'gray')\n",
    "    plt.title(labels[i].item())\n",
    "    plt.axis('off')"
   ]
  }
 ],
 "metadata": {
  "kernelspec": {
   "display_name": "Python 3",
   "language": "python",
   "name": "python3"
  },
  "language_info": {
   "codemirror_mode": {
    "name": "ipython",
    "version": 3
   },
   "file_extension": ".py",
   "mimetype": "text/x-python",
   "name": "python",
   "nbconvert_exporter": "python",
   "pygments_lexer": "ipython3",
   "version": "3.10.9"
  },
  "orig_nbformat": 4,
  "vscode": {
   "interpreter": {
    "hash": "0369330754df7771a59b6812eeca5a8e630344e5fda67f3e30ab9e12913d4de7"
   }
  }
 },
 "nbformat": 4,
 "nbformat_minor": 2
}
