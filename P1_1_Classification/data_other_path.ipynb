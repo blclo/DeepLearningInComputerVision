{
 "cells": [
  {
   "cell_type": "code",
   "execution_count": 1,
   "metadata": {},
   "outputs": [
    {
     "name": "stdout",
     "output_type": "stream",
     "text": [
      "The code will run on CPU. Go to Edit->Notebook Settings and choose GPU as the hardware accelerator\n",
      "src\\data\\hotdog-nothotdog\\hotdog-nothotdog\\train\n",
      "4242\n",
      "src\\data\\hotdog-nothotdog\\hotdog-nothotdog\\test\n"
     ]
    }
   ],
   "source": [
    "import numpy as np\n",
    "from tqdm.notebook import tqdm\n",
    "import torch\n",
    "import torch.nn as nn\n",
    "import torch.nn.functional as F\n",
    "import torchvision.datasets as datasets\n",
    "from torch.utils.data import DataLoader\n",
    "import torchvision.transforms as transforms\n",
    "import matplotlib.pyplot as plt\n",
    "from src.data.dataloader import HotDog_NotHotdog\n",
    "\n",
    "# TODO: call method which returns train and test loaders\n",
    "# GPU / CPU use\n",
    "if torch.cuda.is_available():\n",
    "    print(\"The code will run on GPU.\")\n",
    "else:\n",
    "    print(\"The code will run on CPU. Go to Edit->Notebook Settings and choose GPU as the hardware accelerator\")\n",
    "device = torch.device('cuda' if torch.cuda.is_available() else 'cpu')\n",
    "\n",
    "batch_size = 64\n",
    "\n",
    "# -----------------  Load dataset  -----------------\n",
    "\n",
    "trainset = HotDog_NotHotdog(train=True)\n",
    "print(len(trainset))\n",
    "train_loader = DataLoader(trainset, batch_size=batch_size, shuffle=True, num_workers=3)\n",
    "testset = HotDog_NotHotdog(train=False)\n",
    "test_loader = DataLoader(testset, batch_size=batch_size, shuffle=False, num_workers=3)"
   ]
  },
  {
   "cell_type": "markdown",
   "metadata": {},
   "source": [
    "C:\\Users\\carol\\deep_learning_in_cv\\P1_1_Classification\\data_other_path.ipynb\n",
    "C:\\Users\\carol\\deep_learning_in_cv\\P1_1_Classification\\src\\data\\hotdog-nothotdog\\hotdog-nothotdog"
   ]
  }
 ],
 "metadata": {
  "kernelspec": {
   "display_name": "Python 3",
   "language": "python",
   "name": "python3"
  },
  "language_info": {
   "codemirror_mode": {
    "name": "ipython",
    "version": 3
   },
   "file_extension": ".py",
   "mimetype": "text/x-python",
   "name": "python",
   "nbconvert_exporter": "python",
   "pygments_lexer": "ipython3",
   "version": "3.9.7"
  },
  "orig_nbformat": 4,
  "vscode": {
   "interpreter": {
    "hash": "5c598e6d8cfa9355ea94cd5a7fb9a54e43f80d89ce22a224806b34d2fec224ba"
   }
  }
 },
 "nbformat": 4,
 "nbformat_minor": 2
}
